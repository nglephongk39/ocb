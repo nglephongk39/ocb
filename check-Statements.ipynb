{
 "cells": [
  {
   "cell_type": "code",
   "execution_count": 25,
   "metadata": {},
   "outputs": [],
   "source": [
    "import xlwings as xw\n",
    "import pandas as pd\n",
    "import numpy as np\n",
    "import os\n",
    "import shutil"
   ]
  },
  {
   "cell_type": "markdown",
   "metadata": {},
   "source": [
    "### MOVE FILE"
   ]
  },
  {
   "cell_type": "code",
   "execution_count": 2,
   "metadata": {},
   "outputs": [],
   "source": [
    "path = os.getcwd()\n",
    "root_folder = 'file-Prepare'\n",
    "end_string_0 = '0.xlsx'\n",
    "end_string_1 = '1.xlsx'\n",
    "folder_0 = 'folder_0'\n",
    "folder_1 = 'folder_1'\n",
    "\n",
    "for file in os.listdir(os.path.join(path,root_folder)): \n",
    "        if file.endswith(end_string_0):\n",
    "                root = os.path.join(path , root_folder,  file)\n",
    "\n",
    "                target = os.path.join(path, folder_0 ,file)\n",
    "\n",
    "                shutil.move(root, target)\n",
    "        if file.endswith(end_string_1):\n",
    "                root = os.path.join(path , root_folder,  file)\n",
    "\n",
    "                target = os.path.join(path, folder_1 ,file)\n",
    "\n",
    "                shutil.move(root, target)"
   ]
  },
  {
   "cell_type": "markdown",
   "metadata": {},
   "source": [
    "### Merge File"
   ]
  },
  {
   "cell_type": "code",
   "execution_count": null,
   "metadata": {},
   "outputs": [],
   "source": [
    "print('--------------')\n",
    "print('Bắt đầu Merge File...')\n",
    "\n",
    "cwd = os.getcwd()\n",
    "#Remove folder\n",
    "for file_0 in os.listdir(os.path.join(cwd,folder_0)):\n",
    "    os.remove(file_0)\n",
    "for file_1 in os.listdir(os.path.join(cwd,folder_1)):\n",
    "    os.remove(file_1)\n",
    "# folders = ['#bs', '#main']\n",
    "folder_0 = 'folder_0'\n",
    "folder_1 = 'folder_1'\n",
    "folder_merge = 'folder_Merge'\n",
    "lst_0 = []\n",
    "lst_1 = []\n",
    "for file_0 in os.listdir(os.path.join(cwd,folder_0)):\n",
    "    lst_0.append(file_0[:len(file_0)-7])\n",
    "\n",
    "for file_1 in os.listdir(os.path.join(cwd,folder_1)):\n",
    "    lst_1.append(file_1[:len(file_1)-7])\n",
    "\n",
    "for i in lst_0:\n",
    "    for j in lst_1:\n",
    "        listFile =[]\n",
    "        if i == j:\n",
    "            listFile.append(pd.read_excel(os.path.join(cwd , folder_0, f'{i}_0.xlsx'), sheet_name=0, dtype=str, engine='openpyxl'))\n",
    "            listFile.append(pd.read_excel(os.path.join(cwd , folder_1, f'{j}_1.xlsx'), sheet_name=0, dtype=str, engine='openpyxl'))\n",
    "            listFile_master = pd.concat(listFile, axis=0).drop_duplicates(subset=['TRANS_NO'])\n",
    "            listFile_master.to_excel(os.path.join(cwd , folder_merge, f'merge_{i}.xlsx'), index=False, engine='openpyxl')\n",
    "\n",
    "\n",
    "# print('Kết Thúc Merge File...')"
   ]
  },
  {
   "cell_type": "markdown",
   "metadata": {},
   "source": [
    "# Merge file có cùng tên"
   ]
  },
  {
   "cell_type": "code",
   "execution_count": null,
   "metadata": {},
   "outputs": [],
   "source": [
    "path = os.getcwd()\n",
    "folder_statements = 'file-Statements'\n",
    "folder_Merge = 'folder_Merge'\n",
    "for root, dirs, files in os.walk(os.path.join(path,folder_statements)): #dirs is list folder\n",
    "    for dir in dirs:\n",
    "        subfolder = os.path.join(root, dir)\n",
    "        for file_statement in os.listdir(subfolder):\n",
    "            if file_statement.endswith(('.xlsx')):\n",
    "                count_file = []\n",
    "                for file_merge in os.listdir(os.path.join(path,folder_Merge)):\n",
    "                    if file_merge[6:len(file_merge)-7] == file_statement[:len(file_statement)-5]:    \n",
    "                        print(file_merge[6:len(file_merge)-7])\n",
    "                        count_file.append(file_merge)\n",
    "                if len(count_file) > 1:\n",
    "                    lst_file = []\n",
    "                    for i in count_file:\n",
    "                        lst_file.append(pd.read_excel(os.path.join(path , folder_Merge,i ), sheet_name=0, dtype=str, engine='openpyxl'))\n",
    "                    listFile_master = pd.concat(lst_file, axis=0).drop_duplicates(subset=['TRANS_NO'])\n",
    "                    listFile_master.to_excel(os.path.join(path , folder_Merge, f'{i[:len(i)-7]}.xlsx'), index=False, engine='openpyxl')  # print(os.path.join(path , folder_Merge,i ))\n",
    "            if file_statement.endswith(('.xls')):\n",
    "                count_file = []\n",
    "                for file_merge in os.listdir(os.path.join(path,folder_Merge)):\n",
    "                    if file_merge[6:len(file_merge)-7] == file_statement[:len(file_statement)-4]:   \n",
    "                        print(file_merge[6:len(file_merge)-7])\n",
    "                        print(file_statement[:len(file_statement)-4])\n",
    "                        count_file.append(file_merge)\n",
    "                if len(count_file) > 1:\n",
    "                    lst_file = []\n",
    "                    for i in count_file:\n",
    "                        lst_file.append(pd.read_excel(os.path.join(path , folder_Merge,i ), sheet_name=0, dtype=str, engine='openpyxl'))\n",
    "                    listFile_master = pd.concat(lst_file, axis=0).drop_duplicates(subset=['TRANS_NO'])\n",
    "                    listFile_master.to_excel(os.path.join(path , folder_Merge, f'{i[:len(i)-7]}.xlsx'), index=False, engine='openpyxl')  # print(os.path.join(path , folder_Merge,i ))\n"
   ]
  },
  {
   "cell_type": "markdown",
   "metadata": {},
   "source": [
    "### Check"
   ]
  },
  {
   "cell_type": "code",
   "execution_count": null,
   "metadata": {},
   "outputs": [],
   "source": [
    "path = os.getcwd()\n",
    "folder_statements = 'file-Statements'\n",
    "folder_Merge = 'folder_Merge'\n",
    "for root, dirs, files in os.walk(os.path.join(path,folder_statements)): #dirs is list folder\n",
    "    for dir in dirs:\n",
    "        subfolder = os.path.join(root, dir)\n",
    "        for file_statement in os.listdir(subfolder):\n",
    "            for file_merge in os.listdir(os.path.join(path, folder_Merge)):\n",
    "                if file_statement.endswith('.xls') and file_statement[:len(file_statement)-4] == file_merge[6:len(file_merge)-5]:\n",
    "                # if file_statement.endswith('.xls'):\n",
    "                    print(f'Loading file {file_merge}......')\n",
    "                    print(f'Loading file {file_statement}......')\n",
    "\n",
    "                    df_master = pd.read_excel(os.path.join(path,folder_Merge,file_merge), dtype=str)\n",
    "                    df_sk = pd.read_excel(os.path.join(path,folder_statements, subfolder, file_statement), skipfooter=3, header=8)\n",
    "\n",
    "                    full_row_sk = len(df_sk.index)\n",
    "                    df_sk.index +=10\n",
    "                    df_sk = df_sk.loc[df_sk['Số GD'].str.startswith('FT')]\n",
    "                    df_sk['Số GD'] = df_sk['Số GD'].apply(lambda x: x[:12])\n",
    "\n",
    "                    app = xw.App()\n",
    "                    wb = xw.Book(os.path.join(path,folder_statements, subfolder, file_statement))\n",
    "                    file_blank = open(os.path.join(path,folder_statements, subfolder, file_statement[:len(file_statement)-4] + '_blank.txt'), 'w')\n",
    "                    wb.sheets[0].range(f'I9:K9').value = df_master.columns.values[1:]\n",
    "                    wb.sheets[0].range(f'I9:K9').font.bold = True\n",
    "                    wb.sheets[0].range(f'I9:K9').font.italic = True\n",
    "\n",
    "                    #ALl Border\n",
    "                    for i in range(7,13):\n",
    "                        wb.sheets[0].range(f'I9:K{9 + full_row_sk}').api.Borders(i).LineStyle = 1\n",
    "\n",
    "                    for index_master, row_master in df_master.iterrows():\n",
    "                        for index_sk, row_sk in df_sk.iterrows():\n",
    "\n",
    "                            if row_master['TRANS_NO'] == row_sk['Số GD']:\n",
    "                                wb.sheets[0].range(f'I{index_sk}').number_format = '@'\n",
    "                                wb.sheets[0].range('I9').options(index=False,format = str).value\n",
    "\n",
    "                                wb.sheets[0].range(f'I{index_sk}:K{index_sk}').raw_value = row_master[1:]\n",
    "\n",
    "                                df_sk = df_sk.drop([index_sk])\n",
    "                                break\n",
    "                    for i in df_sk['Số GD']:\n",
    "                        file_blank.write(f\"{i}\\n\")\n",
    "                    wb.save()\n",
    "                    wb.close()\n",
    "                    file_blank.close()\n",
    "                    app.quit()\n",
    "                    break\n",
    "                    "
   ]
  },
  {
   "cell_type": "code",
   "execution_count": 28,
   "metadata": {},
   "outputs": [
    {
     "ename": "FileNotFoundError",
     "evalue": "[WinError 2] The system cannot find the file specified: 'SAO KE - VO CONG HAU_0.xlsx'",
     "output_type": "error",
     "traceback": [
      "\u001b[1;31m---------------------------------------------------------------------------\u001b[0m",
      "\u001b[1;31mFileNotFoundError\u001b[0m                         Traceback (most recent call last)",
      "Cell \u001b[1;32mIn [28], line 3\u001b[0m\n\u001b[0;32m      1\u001b[0m cwd \u001b[39m=\u001b[39m os\u001b[39m.\u001b[39mgetcwd()\n\u001b[0;32m      2\u001b[0m \u001b[39mfor\u001b[39;00m file_0 \u001b[39min\u001b[39;00m os\u001b[39m.\u001b[39mlistdir(os\u001b[39m.\u001b[39mpath\u001b[39m.\u001b[39mjoin(cwd,folder_0)):\n\u001b[1;32m----> 3\u001b[0m     os\u001b[39m.\u001b[39;49mremove(file_0)\n\u001b[0;32m      4\u001b[0m \u001b[39mfor\u001b[39;00m file_1 \u001b[39min\u001b[39;00m os\u001b[39m.\u001b[39mlistdir(os\u001b[39m.\u001b[39mpath\u001b[39m.\u001b[39mjoin(cwd,folder_1)):\n\u001b[0;32m      5\u001b[0m     os\u001b[39m.\u001b[39mremove(file_1)\n",
      "\u001b[1;31mFileNotFoundError\u001b[0m: [WinError 2] The system cannot find the file specified: 'SAO KE - VO CONG HAU_0.xlsx'"
     ]
    }
   ],
   "source": [
    "cwd = os.getcwd()\n",
    "for file_0 in os.listdir(os.path.join(cwd,folder_0)):\n",
    "    os.remove(os.path.join(cwd,folder_0,file_0))\n",
    "for file_1 in os.listdir(os.path.join(cwd,folder_1)):\n",
    "    os.remove(os.path.join(cwd,folder_1,file_1))\n",
    "\n"
   ]
  }
 ],
 "metadata": {
  "kernelspec": {
   "display_name": "Python 3.10.8 ('venv': venv)",
   "language": "python",
   "name": "python3"
  },
  "language_info": {
   "codemirror_mode": {
    "name": "ipython",
    "version": 3
   },
   "file_extension": ".py",
   "mimetype": "text/x-python",
   "name": "python",
   "nbconvert_exporter": "python",
   "pygments_lexer": "ipython3",
   "version": "3.10.8"
  },
  "orig_nbformat": 4,
  "vscode": {
   "interpreter": {
    "hash": "112871e96cdaa5228c60d11672a0426685159410226e31df3753e3add527002d"
   }
  }
 },
 "nbformat": 4,
 "nbformat_minor": 2
}
